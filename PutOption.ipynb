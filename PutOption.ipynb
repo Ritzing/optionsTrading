{
  "nbformat": 4,
  "nbformat_minor": 0,
  "metadata": {
    "colab": {
      "name": "PutOption.ipynb",
      "version": "0.3.2",
      "provenance": []
    },
    "kernelspec": {
      "name": "python3",
      "display_name": "Python 3"
    }
  },
  "cells": [
    {
      "cell_type": "markdown",
      "metadata": {
        "id": "oWabOMQOOPfe",
        "colab_type": "text"
      },
      "source": [
        "## Risk profiles of put option buyer and seller\n",
        "\n",
        "Buying a put option gives you the right, but not the obligation to sell the underlying security at the given strike price, within a specific time period. Therefore a put option payoff at expiration depends on where the underlying price is relative to the put option strike price.\n",
        "\n",
        "In this notebook, we will plot a put buyer's and a put seller's payoff graph for a 900 strike price put on the Infosys stock."
      ]
    },
    {
      "cell_type": "markdown",
      "metadata": {
        "id": "4FcpeoDOOdxk",
        "colab_type": "text"
      },
      "source": [
        "### Importing Libraries "
      ]
    },
    {
      "cell_type": "code",
      "metadata": {
        "id": "yQtnmmFlOhH8",
        "colab_type": "code",
        "colab": {}
      },
      "source": [
        "import numpy as np\n",
        "import matplotlib.pyplot as plt\n",
        "# For making attractive and informative statistical graph\n",
        "plt.style.use('seaborn-darkgrid')"
      ],
      "execution_count": 0,
      "outputs": []
    },
    {
      "cell_type": "markdown",
      "metadata": {
        "id": "5jHkM1VsTFGI",
        "colab_type": "text"
      },
      "source": [
        "### Put payoff\n",
        "\n",
        "We define a function put_payoff that calculates the payoff from buying a put option. The function takes sT which is a range of possible values of the stock price at expiration, the strike price of the put option and the premium of the put option as input.\n",
        "\n",
        "It returns a numpy array containing the profit from put option for different stock prices. When the stock price is less than the strike price, the profit is measured as the difference between strike price and stock price, and when the stock price is greater than the strike price then the profit is zero. After this, a put premium is deducted from the pnl to compute the payoff."
      ]
    },
    {
      "cell_type": "code",
      "metadata": {
        "id": "dqTHSiLjTMqh",
        "colab_type": "code",
        "colab": {}
      },
      "source": [
        "def put_payoff (sT, strike_price, premium):\n",
        "    pnl = np.where(sT<strike_price, strike_price - sT, 0)\n",
        "    return pnl - premium"
      ],
      "execution_count": 0,
      "outputs": []
    },
    {
      "cell_type": "markdown",
      "metadata": {
        "id": "SPuD5ys3TPZT",
        "colab_type": "text"
      },
      "source": [
        "### Define parameters\n",
        "\n",
        "We will define the spot price, the strike price, premium, and a range of possible values for the Infosys stock price at expiry."
      ]
    },
    {
      "cell_type": "code",
      "metadata": {
        "id": "1qYY4027TVi8",
        "colab_type": "code",
        "colab": {}
      },
      "source": [
        "# Infosys stock price\n",
        "spot_price = 900\n",
        "\n",
        "# Put strike price and cost\n",
        "strike_price = 900\n",
        "premium = 20\n",
        "\n",
        "# Stock price range at the expiration of the put\n",
        "# We have defined range for the stock price at expiry as +/- 10% from spot price\n",
        "# Syntax: numpy.arange(start price, stop price)\n",
        "sT = np.arange(0.9*spot_price,1.1*spot_price)"
      ],
      "execution_count": 0,
      "outputs": []
    },
    {
      "cell_type": "markdown",
      "metadata": {
        "id": "RMNtnYIOTfTQ",
        "colab_type": "text"
      },
      "source": [
        "### Put option buyer payoff"
      ]
    },
    {
      "cell_type": "code",
      "metadata": {
        "id": "fAWXXH0xTrgR",
        "colab_type": "code",
        "colab": {
          "base_uri": "https://localhost:8080/",
          "height": 303
        },
        "outputId": "62f52b27-17aa-4b3f-9baf-350890558805"
      },
      "source": [
        "payoff_long_put = put_payoff(sT, strike_price, premium)\n",
        "# Plot the graph\n",
        "fig, ax = plt.subplots(figsize=(8,5))\n",
        "ax.spines['bottom'].set_position('zero')\n",
        "ax.plot(sT,payoff_long_put,label='Put option buyer payoff')\n",
        "plt.xlabel('Infosys Stock Price')\n",
        "plt.ylabel('Profit and loss')\n",
        "plt.legend()\n",
        "plt.show()"
      ],
      "execution_count": 4,
      "outputs": [
        {
          "output_type": "display_data",
          "data": {
            "image/png": "[encoded data removed]",
            "text/plain": [
              "<Figure size 576x360 with 1 Axes>"
            ]
          },
          "metadata": {
            "tags": []
          }
        }
      ]
    },
    {
      "cell_type": "markdown",
      "metadata": {
        "id": "dR8qwKGhT5_D",
        "colab_type": "text"
      },
      "source": [
        "### Observation\n",
        "\n",
        "1. Even if the price of Infosys goes above the strike price of 900, the maximum loss seems to be just INR 20/-. Therefore, the loss to the put option buyer is restricted to the extent of the premium he has paid.\n",
        "\n",
        "2. The profit from this put option seems to increase linearly as and when Infosys starts to move below the strike price of 900. Therefore, the lower the spot price goes, the higher will be the profit.\n",
        "\n",
        "3. Though the put option is supposed to make a profit when the spot price moves below the strike price, the put option buyer first needs to recover the premium he has paid.\n",
        "\n",
        "From the above points, we can say that the buyer of the put option has limited risk and the potential to make a huge profit."
      ]
    },
    {
      "cell_type": "markdown",
      "metadata": {
        "id": "OM_P3wOgUER2",
        "colab_type": "text"
      },
      "source": [
        "### Put option seller payoff\n",
        "\n",
        "To get the payoff graph for option seller, we have multiplied the payoff of option buyer by -1.0, as the option buyer makes the profit, the option seller will lose the exact same amount and vice-versa."
      ]
    },
    {
      "cell_type": "code",
      "metadata": {
        "id": "vrqJjRDCUJTy",
        "colab_type": "code",
        "colab": {
          "base_uri": "https://localhost:8080/",
          "height": 303
        },
        "outputId": "7f50b273-d97d-4f4a-b2b0-8666ea26ad0e"
      },
      "source": [
        "payoff_short_put = payoff_long_put * -1.0\n",
        "# Plot\n",
        "fig, ax = plt.subplots(figsize=(8,5))\n",
        "ax.spines['bottom'].set_position('zero')\n",
        "ax.plot(sT,payoff_short_put,label='Put option seller payoff',color='r')\n",
        "plt.xlabel('Infosys Stock Price')\n",
        "plt.ylabel('Profit and loss')\n",
        "plt.legend()\n",
        "plt.show()"
      ],
      "execution_count": 5,
      "outputs": [
        {
          "output_type": "display_data",
          "data": {
            "image/png": "[encoded data removed]",
            "text/plain": [
              "<Figure size 576x360 with 1 Axes>"
            ]
          },
          "metadata": {
            "tags": []
          }
        }
      ]
    },
    {
      "cell_type": "markdown",
      "metadata": {
        "id": "9AHt3Z9DUTuM",
        "colab_type": "text"
      },
      "source": [
        "### Observation\n",
        "\n",
        "The put option seller payoff looks like a mirror image of the put option buyer payoff. \n",
        "\n",
        "1. The profit is restricted to INR 20/- as long as the spot price is trading at any price above the strike price of 900.\n",
        "2. From 900 to 880, we can see the profits getting reduced.\n",
        "3. Below 880, the put option seller starts losing money. The losses increase with a decrease in stock price.\n",
        "\n",
        "Therefore, you sell a put option only when your view is that the underlying asset will not fall beyond the strike price."
      ]
    }
  ]
}