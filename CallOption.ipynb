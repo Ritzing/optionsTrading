{
  "nbformat": 4,
  "nbformat_minor": 0,
  "metadata": {
    "colab": {
      "name": "CallOption.ipynb",
      "version": "0.3.2",
      "provenance": []
    },
    "kernelspec": {
      "name": "python3",
      "display_name": "Python 3"
    }
  },
  "cells": [
    {
      "cell_type": "markdown",
      "metadata": {
        "id": "eHifDU9r8Yj0",
        "colab_type": "text"
      },
      "source": [
        "### Risk profiles of put option buyer and seller\n",
        "Buying a put option gives you the right, but not the obligation to sell the underlying security at the given strike price, within a specific time period. Therefore a put option payoff at expiration depends on where the underlying price is relative to the put option strike price.\n",
        "\n",
        "In this notebook, we will plot a put buyer's and a put seller's payoff graph for a 900 strike price put on the Infosys stock.\n",
        "\n"
      ]
    },
    {
      "cell_type": "markdown",
      "metadata": {
        "id": "y80kbtC_8lke",
        "colab_type": "text"
      },
      "source": [
        "### Importing Libraries "
      ]
    },
    {
      "cell_type": "code",
      "metadata": {
        "id": "s7QdXRtv8pED",
        "colab_type": "code",
        "colab": {}
      },
      "source": [
        "import numpy as np\n",
        "import matplotlib.pyplot as plt\n",
        "# For making attractive and informative statistical graph\n",
        "plt.style.use('seaborn-darkgrid')"
      ],
      "execution_count": 0,
      "outputs": []
    },
    {
      "cell_type": "markdown",
      "metadata": {
        "id": "pYQ7qtsc851M",
        "colab_type": "text"
      },
      "source": [
        "### Call payoff\n",
        "We define a function call_payoff that calculates the payoff from buying a call option. The function takes sT, a range of possible values of the stock price at expiration, the strike price of the call option and premium of the call option as input.\n",
        "\n",
        "It returns a numpy array containing the profit from call option for different the stock price. When the stock price is greater than the strike price, the profit is the difference between stock price and strike price and when the stock price is less than the strike price the profit is zero. After this, a call premium is deducted from the pnl."
      ]
    },
    {
      "cell_type": "code",
      "metadata": {
        "id": "_jU38VtO8-ol",
        "colab_type": "code",
        "colab": {}
      },
      "source": [
        "def call_payoff(sT, strike_price, premium):\n",
        "    pnl = np.where(sT > strike_price, sT - strike_price, 0)    \n",
        "    return pnl - premium"
      ],
      "execution_count": 0,
      "outputs": []
    },
    {
      "cell_type": "markdown",
      "metadata": {
        "id": "QJZHf6PI9C2b",
        "colab_type": "text"
      },
      "source": [
        "### Define parameters\n",
        "We will define the spot price, the strike price, premium, and a range of possible values for the Infosys stock price at expiry."
      ]
    },
    {
      "cell_type": "code",
      "metadata": {
        "id": "TYozC_dH9GyE",
        "colab_type": "code",
        "colab": {}
      },
      "source": [
        "# Infosys stock price \n",
        "spot_price = 900 \n",
        "\n",
        "# Call strike price and cost\n",
        "strike_price = 900 \n",
        "premium = 20\n",
        "\n",
        "# Stock price range at the expiration of the call\n",
        "# We have defined range for the stock price at expiry as +/- 10% from spot price\n",
        "# Syntax: numpy.arange(start price, stop price)\n",
        "sT = np.arange(0.9*spot_price,1.1*spot_price) "
      ],
      "execution_count": 0,
      "outputs": []
    },
    {
      "cell_type": "markdown",
      "metadata": {
        "id": "gs-s0IGk9Jiu",
        "colab_type": "text"
      },
      "source": [
        "### Call option buyer payoff"
      ]
    },
    {
      "cell_type": "code",
      "metadata": {
        "id": "52C-ZOke9NvB",
        "colab_type": "code",
        "colab": {
          "base_uri": "https://localhost:8080/",
          "height": 303
        },
        "outputId": "21f228bb-530e-4738-b57e-325995b8a34c"
      },
      "source": [
        "payoff_long_call = call_payoff(sT, strike_price, premium)\n",
        "# Plot the graph\n",
        "fig, ax = plt.subplots(figsize=(8,5))\n",
        "ax.spines['bottom'].set_position('zero')\n",
        "ax.plot(sT,payoff_long_call,label='Call option buyer payoff')\n",
        "plt.xlabel('Infosys Stock Price')\n",
        "plt.ylabel('Profit and loss')\n",
        "plt.legend()\n",
        "plt.show()"
      ],
      "execution_count": 4,
      "outputs": [
        {
          "output_type": "display_data",
          "data": {
            "image/png": "[encoded data removed]",
            "text/plain": [
              "<Figure size 576x360 with 1 Axes>"
            ]
          },
          "metadata": {
            "tags": []
          }
        }
      ]
    },
    {
      "cell_type": "markdown",
      "metadata": {
        "id": "Z7vE4uJc94HM",
        "colab_type": "text"
      },
      "source": [
        "### Observations \n",
        "\n",
        "1.   Even if the price of Infosys goes below the strike price of 900, the maximum loss seems to be just INR 20/-. Therefore, the loss to the call option buyer is restricted to the extent of the premium he has paid.\n",
        "2.   The profit from this call option seems to increase linearly as and when Infosys starts to move above the strike price of 900. Therefore, the higher the spot price goes from the strike price, the higher is the profit.\n",
        "3.   Though the call option is supposed to make a profit when the spot price moves above the strike price, the call option buyer first needs to recover the premium he has paid.\n",
        "\n",
        "\n",
        "\n",
        "From the above points, we can say that the buyer of the call option has limited risk and the potential to make an unlimited profit."
      ]
    },
    {
      "cell_type": "markdown",
      "metadata": {
        "id": "hsdqjSeh_F7k",
        "colab_type": "text"
      },
      "source": [
        "### Call option seller payoff\n",
        "Option buyer and option seller are the two sides of the same coin. Therefore, to get the payoff graph for option seller, we have multiplied the payoff of option buyer by -1.0 as when the option buyer makes the profit, the option seller will lose the exact same amount and vice-versa."
      ]
    },
    {
      "cell_type": "code",
      "metadata": {
        "id": "HMU2i4iF_IQf",
        "colab_type": "code",
        "colab": {
          "base_uri": "https://localhost:8080/",
          "height": 303
        },
        "outputId": "158298eb-ed2c-4716-a0bb-c9b72bf1b26a"
      },
      "source": [
        "payoff_short_call = payoff_long_call * -1.0\n",
        "# Plot\n",
        "fig, ax = plt.subplots(figsize=(8,5))\n",
        "ax.spines['bottom'].set_position('zero')\n",
        "ax.plot(sT,payoff_short_call,label='Short 940 Strike Call',color='r')\n",
        "plt.xlabel('Infosys Stock Price')\n",
        "plt.ylabel('Profit and loss')\n",
        "plt.legend()\n",
        "plt.show()"
      ],
      "execution_count": 5,
      "outputs": [
        {
          "output_type": "display_data",
          "data": {
            "image/png": "[encoded data removed]",
            "text/plain": [
              "<Figure size 576x360 with 1 Axes>"
            ]
          },
          "metadata": {
            "tags": []
          }
        }
      ]
    },
    {
      "cell_type": "markdown",
      "metadata": {
        "id": "ckCoFxrt_MZi",
        "colab_type": "text"
      },
      "source": [
        "### Observation\n",
        "\n",
        "The call option seller payoff looks like a mirror image of the call option buyer payoff.\n",
        "\n",
        "1.   The profit is restricted to INR 20/- as long as the spot price is trading at any price below the strike of 900.\n",
        "2.   From 900 to 920, we can see the profits getting reduced.\n",
        "3.   \n",
        "Above 920, the call option seller starts losing money. The losses increase with an increase in stock price.\n",
        "4.  Therefore, you sell a call option only when your view is that the underlying asset will not increase beyond the strike price.\n",
        "\n"
      ]
    }
  ]
}